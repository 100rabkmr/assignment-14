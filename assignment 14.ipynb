{
 "cells": [
  {
   "cell_type": "raw",
   "id": "0e343e3c",
   "metadata": {},
   "source": [
    "Q. What does RGBA stand for?\n",
    "\n",
    "Ans.\n",
    "\n",
    "RGBA stands for red, green, blue, and alpha (transparency) in the color\n",
    "An RGBA value is a tuple of 4 integers, each ranging from 0 to 255. The four integers correspond to the amount of red, green, blue, and alpha (transparency) in the color\n"
   ]
  },
  {
   "cell_type": "raw",
   "id": "1174b45d",
   "metadata": {},
   "source": [
    "Q. From the Pillow module, how do you get the RGBA value of any images ?\n",
    "\n",
    "\n",
    "\n",
    "from PIL import ImageColor\n",
    "ImageColor.getcolor('green', 'RGBA')\n",
    "ImageColor.getcolor('red', 'RGBA')\n",
    "     \n"
   ]
  },
  {
   "cell_type": "raw",
   "id": "d269cb79",
   "metadata": {},
   "source": [
    "Q. What is a box tuple, and how does it work?\n",
    "\n",
    "Ans. A box tuple is a tuple value of four integers: the left edge x-coordinate, the top edge y-coordinate, the width, and the height, respectively\n"
   ]
  },
  {
   "cell_type": "raw",
   "id": "c419c5c1",
   "metadata": {},
   "source": [
    "Q. Use your image and load in notebook then, How can you find out the width and height of an Image object?\n",
    "\n",
    "\n",
    "from google.colab import files\n",
    "uploaded = files.upload()\n",
    "     \n",
    "Upload widget is only available when the cell has been executed in the current browser session. Please rerun this cell to enable.\n",
    "Saving shiva.jpg to shiva.jpg\n",
    "\n",
    "from PIL import Image\n",
    "myImg = Image.open('shiva.jpg')\n",
    "w,h = myImg.size\n",
    "w,h\n",
    "     "
   ]
  },
  {
   "cell_type": "raw",
   "id": "f5377728",
   "metadata": {},
   "source": [
    "Q. What method would you call to get Image object for a 100×100 image, excluding the lower-left quarter of it?\n",
    "\n",
    "Ans. ImageObject.crop((0, 50, 50, 50))\n"
   ]
  },
  {
   "cell_type": "raw",
   "id": "0b71a9d0",
   "metadata": {},
   "source": [
    "Q. After making changes to an Image object, how could you save it as an image file?\n",
    "\n",
    "Ans. By Calling the imageObj.save('new_filename.png') method of the Image object."
   ]
  },
  {
   "cell_type": "raw",
   "id": "bea589be",
   "metadata": {},
   "source": [
    "Q. What module contains Pillow’s shape-drawing code?\n",
    "\n",
    "Ans. The ImageDraw module contains code to draw on images\n"
   ]
  },
  {
   "cell_type": "markdown",
   "id": "fe8e3902",
   "metadata": {},
   "source": [
    "Q. Image objects do not have drawing methods. What kind of object does? How do you get this kind of object?\n",
    "\n",
    "Ans. ImageDraw objects have shape-drawing methods such as point(), line(), or rectangle(). They are returned by passing the Image object to the ImageDraw.Draw() function\n"
   ]
  }
 ],
 "metadata": {
  "kernelspec": {
   "display_name": "Python 3 (ipykernel)",
   "language": "python",
   "name": "python3"
  },
  "language_info": {
   "codemirror_mode": {
    "name": "ipython",
    "version": 3
   },
   "file_extension": ".py",
   "mimetype": "text/x-python",
   "name": "python",
   "nbconvert_exporter": "python",
   "pygments_lexer": "ipython3",
   "version": "3.11.7"
  }
 },
 "nbformat": 4,
 "nbformat_minor": 5
}
